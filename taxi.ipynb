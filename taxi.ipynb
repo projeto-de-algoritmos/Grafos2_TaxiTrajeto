{
 "cells": [
  {
   "cell_type": "markdown",
   "metadata": {},
   "source": [
    "Bibliotecas usadas no projeto"
   ]
  },
  {
   "cell_type": "code",
   "execution_count": 3,
   "metadata": {},
   "outputs": [],
   "source": [
    "from random import randint\n",
    "import networkx as nx\n",
    "import matplotlib.pyplot as plt\n",
    "from IPython.display import clear_output\n",
    "from time import sleep\n",
    "import gym\n",
    "env = gym.make('Taxi-v3').env # Taxi-v3 nos fornece a estrutura inicial do mapa, incluindo suas chaves para as posições"
   ]
  },
  {
   "cell_type": "markdown",
   "metadata": {},
   "source": [
    "#### Representação do mapa e do trajeto que o táxi terá que fazer, indo do ponto 'rosa' até o ponto 'azul'"
   ]
  },
  {
   "cell_type": "code",
   "execution_count": 4,
   "metadata": {},
   "outputs": [
    {
     "name": "stdout",
     "output_type": "stream",
     "text": [
      "+---------+\n",
      "|\u001b[34;1mR\u001b[0m: | : :G|\n",
      "| : | : : |\n",
      "| : : : : |\n",
      "| | : | : |\n",
      "|\u001b[35mY\u001b[0m| : |\u001b[43mB\u001b[0m: |\n",
      "+---------+\n",
      "\n"
     ]
    }
   ],
   "source": [
    "env.render()"
   ]
  },
  {
   "cell_type": "markdown",
   "metadata": {},
   "source": [
    "### Definindo o grafo do mapa com os respectivos pesos entre os nós conectados"
   ]
  },
  {
   "cell_type": "code",
   "execution_count": 2,
   "metadata": {},
   "outputs": [],
   "source": [
    "grafo_mapa = {}\n",
    "grafo_mapa[0] = {20: 5, 100: 10}\n",
    "grafo_mapa[20] = {0: 5, 120: 10}\n",
    "grafo_mapa[40] = {60: 5, 140: 10}\n",
    "grafo_mapa[60] = {40: 5, 80: 10, 160: 15}\n",
    "grafo_mapa[80] = {60: 5, 180: 10}\n",
    "grafo_mapa[100] = {0: 5, 120: 10, 200: 15}\n",
    "grafo_mapa[120] = {20: 5, 100: 10, 220: 15}\n",
    "grafo_mapa[140] = {40: 5, 160: 10, 240: 15}\n",
    "grafo_mapa[160] = {60: 5, 140: 10, 180: 15, 260: 20}\n",
    "grafo_mapa[180] = {80: 5, 160: 10, 280: 15}\n",
    "grafo_mapa[200] = {100: 5, 220: 10, 300: 15}\n",
    "grafo_mapa[220] = {200: 5, 120: 10, 240: 15, 320: 20}\n",
    "grafo_mapa[240] = {220: 5, 140: 10, 260: 15, 340: 20}\n",
    "grafo_mapa[260] = {240: 5, 160: 10, 280: 15, 360: 20}\n",
    "grafo_mapa[280] = {260: 5, 180: 10, 380: 15}\n",
    "grafo_mapa[300] = {200: 5, 400: 10}\n",
    "grafo_mapa[320] = {220: 5, 340: 10, 420: 15}\n",
    "grafo_mapa[340] = {240: 5, 320: 10, 440: 15}\n",
    "grafo_mapa[360] = {260: 5, 380: 10, 460: 15}\n",
    "grafo_mapa[380] = {280: 5, 360: 10, 480: 15}\n",
    "grafo_mapa[400] = {300: 5}\n",
    "grafo_mapa[420] = {320: 5, 440: 10}\n",
    "grafo_mapa[440] = {340: 5, 420: 10}\n",
    "grafo_mapa[460] = {360: 5, 480: 10}\n",
    "grafo_mapa[480] = {380: 5, 460: 10}"
   ]
  },
  {
   "cell_type": "markdown",
   "metadata": {},
   "source": [
    "#### Algoritmo de Dijkstra"
   ]
  },
  {
   "cell_type": "code",
   "execution_count": 1,
   "metadata": {},
   "outputs": [],
   "source": [
    "def dijkstra(grafo, origem, fim, taxiTrajeto):\n",
    "    \"\"\"Função responsável por retornar a menor distância de um nó de origem\n",
    "    até um nó de destino e o caminho até ele\"\"\"\n",
    "\n",
    "    controle = { }\n",
    "    distanciaAtual = { }\n",
    "    noAtual = { }\n",
    "    naoVisitados = []\n",
    "    atual = origem\n",
    "    noAtual[atual] = 0\n",
    "\n",
    "    \n",
    "    for vertice in grafo.keys():\n",
    "        naoVisitados.append(vertice) # Inclui os vértices nos não visitados    \n",
    "        distanciaAtual[vertice] = float('inf') # Inicia os vértices como infinito\n",
    "\n",
    "    distanciaAtual[atual] = [0,origem] \n",
    "\n",
    "    naoVisitados.remove(atual)\n",
    "\n",
    "    while naoVisitados:\n",
    "        for vizinho, peso in grafo[atual].items():\n",
    "            pesoCalc = peso + noAtual[atual]\n",
    "            if distanciaAtual[vizinho] == float(\"inf\") or distanciaAtual[vizinho][0] > pesoCalc:\n",
    "                distanciaAtual[vizinho] = [pesoCalc,atual]\n",
    "                controle[vizinho] = pesoCalc\n",
    "                 \n",
    "        if controle == {} : break    \n",
    "        minVizinho = min(controle.items(), key=lambda x: x[1]) # Seleciona o menor vizinho\n",
    "        atual = minVizinho[0]\n",
    "        noAtual[atual] = minVizinho[1]\n",
    "        naoVisitados.remove(atual)\n",
    "        del controle[atual]\n",
    "\n",
    "    taxiTrajeto.append(fim)\n",
    "    returnTrajeto(distanciaAtual, origem, fim, taxiTrajeto)         \n",
    "    \n",
    "\n",
    "def returnTrajeto(distancias, inicio, fim, taxiTrajeto):\n",
    "        if  fim != inicio:\n",
    "            taxiTrajeto.append(distancias[fim][1])\n",
    "            returnTrajeto(distancias, inicio, distancias[fim][1], taxiTrajeto)\n",
    "        else:\n",
    "            return inicio"
   ]
  },
  {
   "cell_type": "markdown",
   "metadata": {},
   "source": [
    "### Renderizando o mapa e fazendo o táxi levar o passageiro até o destino"
   ]
  },
  {
   "cell_type": "code",
   "execution_count": 8,
   "metadata": {},
   "outputs": [],
   "source": [
    "def print_frames(frames, segundos=0.5):\n",
    "    \"\"\"Função responsável por printar cada estado do mapa, fazendo com que o taxi\n",
    "    se movimente até o passageiro e depois até o destino\"\"\"\n",
    "\n",
    "    for i, frame in enumerate(frames):\n",
    "        clear_output(wait=True)\n",
    "        print(frame['frame'])\n",
    "        print(f'Passos dados (Timesteps): {i+1}')\n",
    "        print(f\"Estado: {frame['estado']}\")\n",
    "        sleep(segundos)\n",
    "\n",
    "\n",
    "def trajeto_taxi(Y_taxi, X_taxi, id_destino, id_passageiro, segundos=0.5):\n",
    "    \"\"\"Função responsável por encontrar o caminho que o táxi tem que fazer para ir até\n",
    "    o passageiro e depois até o destino\"\"\"\n",
    "\n",
    "    # Estado do mapa que é configurado pelo index do passageiro e do destino, quando o taxi está na posição (0,0)\n",
    "    posicao_pass_dest = env.encode( 0, 0, id_destino, id_passageiro) # linha do taxi | coluna do taxi | index do destino | index do passageiro\n",
    "\n",
    "    # Remapeando o grafo que representa o mapa real que o táxi tem que percorrer\n",
    "    grafo_taxi = {k + posicao_pass_dest: {k + posicao_pass_dest: v for k,v in grafo_mapa[k].items()} for k,v in grafo_mapa.items()}\n",
    "\n",
    "    # Gerando o estado inicial do mapa\n",
    "    posicao_taxi = env.encode(Y_taxi, X_taxi, id_destino, id_passageiro)\n",
    "\n",
    "    # Possíveis estados do mapa onde está o passageiro e o destino\n",
    "    coor = [0, 80, 400, 460]\n",
    "\n",
    "    # Estado do passageiro e do destino, considerando o configuração real do grafo, que representa o mapa\n",
    "    coor_passageiro = coor[id_passageiro] + posicao_pass_dest\n",
    "    coor_destino = coor[id_destino] + posicao_pass_dest\n",
    "\n",
    "    trajeto = []\n",
    "    # Utilizando o algoritmo de dijkstra para encontrar o caminho mais rápido entre a posição inicial do táxi e o passageiro\n",
    "    dijkstra(grafo_taxi, posicao_taxi, coor_passageiro, trajeto)\n",
    "    trajeto_passageiro = trajeto[::-1].copy()\n",
    "\n",
    "\n",
    "    trajeto = []\n",
    "    # Utilizando o algoritmo de dijkstra para encontrar o caminho mais rápido entre o passageiro e o destino\n",
    "    dijkstra(grafo_taxi, coor_passageiro, coor_destino, trajeto)\n",
    "    trajeto_destino = trajeto[::-1].copy()\n",
    "\n",
    "    frames = []\n",
    "\n",
    "    for estado in trajeto_passageiro:\n",
    "\n",
    "        # Variável responsável por guardar no ambiente env o estado atual do mapa\n",
    "        env.s = estado\n",
    "\n",
    "        acao = 0\n",
    "\n",
    "        frames.append({\n",
    "                'frame': env.render(mode='ansi'), # Renderiza o estado do mapa no formato ansi\n",
    "                'estado': estado,\n",
    "                'ação': acao,\n",
    "            })\n",
    "\n",
    "    for estado in trajeto_destino:  \n",
    "        env.s = estado\n",
    "\n",
    "        acao = 4\n",
    "        if estado == coor_destino:\n",
    "            acao = 5\n",
    "\n",
    "        frames.append({\n",
    "                'frame': env.render(mode='ansi'), \n",
    "                'estado': estado,\n",
    "                'ação': acao,\n",
    "            })\n",
    "\n",
    "    # Representação do ato do táxi pegar o passageiro e levar até o destino\n",
    "    for i, frame in enumerate(frames):\n",
    "        if frame['ação'] == 4 or frame['ação'] == 5:\n",
    "            frame['frame'] = frame['frame'].replace('35', '0').replace('43', '41')\n",
    "    frame_fim = frames[-1].copy()\n",
    "    frame_fim['frame'] = frame_fim['frame'].replace('41', '43')\n",
    "    frames.append(frame_fim)\n",
    "\n",
    "    print_frames(frames, segundos)"
   ]
  },
  {
   "cell_type": "code",
   "execution_count": null,
   "metadata": {},
   "outputs": [],
   "source": []
  }
 ],
 "metadata": {
  "interpreter": {
   "hash": "251c544b4bb92d86b9e495625bea64d8ceaf3037781097ca342b52c0f32127e6"
  },
  "kernelspec": {
   "display_name": "Python 3.6.8 64-bit",
   "language": "python",
   "name": "python3"
  },
  "language_info": {
   "codemirror_mode": {
    "name": "ipython",
    "version": 3
   },
   "file_extension": ".py",
   "mimetype": "text/x-python",
   "name": "python",
   "nbconvert_exporter": "python",
   "pygments_lexer": "ipython3",
   "version": "3.9.7"
  },
  "orig_nbformat": 4
 },
 "nbformat": 4,
 "nbformat_minor": 2
}
